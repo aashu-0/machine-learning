{
  "cells": [
    {
      "cell_type": "markdown",
      "metadata": {
        "id": "view-in-github",
        "colab_type": "text"
      },
      "source": [
        "<a href=\"https://colab.research.google.com/github/aashu-0/machine-learning/blob/main/training_models.ipynb\" target=\"_parent\"><img src=\"https://colab.research.google.com/assets/colab-badge.svg\" alt=\"Open In Colab\"/></a>"
      ]
    },
    {
      "cell_type": "code",
      "execution_count": null,
      "id": "72c32c08",
      "metadata": {
        "id": "72c32c08"
      },
      "outputs": [],
      "source": [
        "# linear regression\n",
        "# the normal equation\n",
        "\n",
        "import numpy as np\n",
        "np.random.seed(42)\n",
        "m = 100    #no. of instances\n",
        "X = 2 * np.random.rand(m, 1)     #column vector\n",
        "\n",
        "y = 4 + 3 * X + np.random.randn(m, 1)     #row vector"
      ]
    },
    {
      "cell_type": "code",
      "execution_count": null,
      "id": "7c197063",
      "metadata": {
        "id": "7c197063",
        "outputId": "4448feff-59e1-473f-f011-d732ee341419"
      },
      "outputs": [
        {
          "data": {
            "text/plain": [
              "100"
            ]
          },
          "execution_count": 2,
          "metadata": {},
          "output_type": "execute_result"
        }
      ],
      "source": [
        "len(X)"
      ]
    },
    {
      "cell_type": "code",
      "execution_count": null,
      "id": "6b39f761",
      "metadata": {
        "id": "6b39f761",
        "outputId": "a3582ba8-c274-4e92-cb39-d4fad8637347"
      },
      "outputs": [
        {
          "data": {
            "image/png": "[encoded data removed]",
            "text/plain": [
              "<Figure size 432x288 with 1 Axes>"
            ]
          },
          "metadata": {
            "needs_background": "light"
          },
          "output_type": "display_data"
        }
      ],
      "source": [
        "# plotting randomly generated linear dataset\n",
        "\n",
        "import matplotlib.pyplot as plt\n",
        "\n",
        "plt.plot(X, y, 'b.')\n",
        "plt.xlabel('$x_1$')\n",
        "plt.ylabel('$y$', rotation = 0)\n",
        "plt.axis([0,2,0,15])\n",
        "plt.grid()\n",
        "plt.show()"
      ]
    },
    {
      "cell_type": "code",
      "execution_count": null,
      "id": "ab89b8ae",
      "metadata": {
        "id": "ab89b8ae"
      },
      "outputs": [],
      "source": [
        "# include intercept term in model\n",
        "# X_b = np.c_[np.ones((100,1)), X]\n",
        "\n",
        "# alter\n",
        "from sklearn.preprocessing import add_dummy_feature  # add columns of ones to the feature matrix\n",
        "X_b = add_dummy_feature(X)"
      ]
    },
    {
      "cell_type": "code",
      "execution_count": null,
      "id": "ba4e55bd",
      "metadata": {
        "id": "ba4e55bd"
      },
      "outputs": [],
      "source": [
        "# theta_best = np.linalg.inv(X_b.T.dot(X_b)).dot(X_b.T).dot(y)\n",
        "\n",
        "#  alter\n",
        "theta_best = np.linalg.inv(X_b.T @ X_b)@ X_b.T @ y   # @ performs matrix multiplication"
      ]
    },
    {
      "cell_type": "code",
      "execution_count": null,
      "id": "01457808",
      "metadata": {
        "id": "01457808",
        "outputId": "a9434590-0b52-4a25-c65c-3537b60d4044"
      },
      "outputs": [
        {
          "data": {
            "text/plain": [
              "array([[4.21509616],\n",
              "       [2.77011339]])"
            ]
          },
          "execution_count": 6,
          "metadata": {},
          "output_type": "execute_result"
        }
      ],
      "source": [
        "theta_best"
      ]
    },
    {
      "cell_type": "code",
      "execution_count": null,
      "id": "cbbf530c",
      "metadata": {
        "id": "cbbf530c",
        "outputId": "f714d042-27c5-450f-c943-ec2f26562c13"
      },
      "outputs": [
        {
          "data": {
            "text/plain": [
              "array([[4.21509616],\n",
              "       [9.75532293]])"
            ]
          },
          "execution_count": 7,
          "metadata": {},
          "output_type": "execute_result"
        }
      ],
      "source": [
        "# predicting using theta_best\n",
        "\n",
        "X_new= np.array([[0],[2]])\n",
        "X_new_b = add_dummy_feature(X_new)\n",
        "\n",
        "y_predict = X_new_b @ theta_best\n",
        "y_predict"
      ]
    },
    {
      "cell_type": "code",
      "execution_count": null,
      "id": "6622c780",
      "metadata": {
        "id": "6622c780",
        "outputId": "ac521788-957d-4ee4-e1c2-54dcccb7d1a4"
      },
      "outputs": [
        {
          "data": {
            "image/png": "[encoded data removed]",
            "text/plain": [
              "<Figure size 432x288 with 1 Axes>"
            ]
          },
          "metadata": {
            "needs_background": "light"
          },
          "output_type": "display_data"
        }
      ],
      "source": [
        "# plotting linear regression model predictions\n",
        "\n",
        "plt.plot(X_new, y_predict, 'r-', label = 'Predictions')\n",
        "plt.plot(X, y, 'b.')\n",
        "plt.xlabel('$x_1$')\n",
        "plt.ylabel('$y$', rotation = 0)\n",
        "plt.axis([0,2,0,15])\n",
        "plt.grid()\n",
        "plt.legend(loc = 'best')\n",
        "plt.show()"
      ]
    },
    {
      "cell_type": "code",
      "execution_count": null,
      "id": "ef4e7494",
      "metadata": {
        "id": "ef4e7494",
        "outputId": "4a583870-8e41-4794-ba4b-b74cd08ef8d9"
      },
      "outputs": [
        {
          "data": {
            "text/plain": [
              "(array([4.21509616]), array([[2.77011339]]))"
            ]
          },
          "execution_count": 9,
          "metadata": {},
          "output_type": "execute_result"
        }
      ],
      "source": [
        "# performing linear reg using scikit learn\n",
        "\n",
        "from sklearn.linear_model import LinearRegression\n",
        "lin_reg = LinearRegression()\n",
        "lin_reg.fit(X,y)\n",
        "lin_reg.intercept_, lin_reg.coef_"
      ]
    },
    {
      "cell_type": "code",
      "execution_count": null,
      "id": "94b83021",
      "metadata": {
        "id": "94b83021",
        "outputId": "4461ec68-2daa-4080-a8ce-246501a42626"
      },
      "outputs": [
        {
          "data": {
            "text/plain": [
              "array([[4.21509616],\n",
              "       [9.75532293]])"
            ]
          },
          "execution_count": 10,
          "metadata": {},
          "output_type": "execute_result"
        }
      ],
      "source": [
        "lin_reg.predict(X_new)"
      ]
    },
    {
      "cell_type": "code",
      "execution_count": null,
      "id": "4fe77e81",
      "metadata": {
        "id": "4fe77e81",
        "outputId": "c74019b9-1a76-4cd3-ffa3-971c50e2fb4e"
      },
      "outputs": [
        {
          "data": {
            "text/plain": [
              "array([[4.21509616],\n",
              "       [2.77011339]])"
            ]
          },
          "execution_count": 11,
          "metadata": {},
          "output_type": "execute_result"
        }
      ],
      "source": [
        "# using scipy.linalg.lstsq() function\n",
        "\n",
        "theta_best_svd, residuals, rank, s = np.linalg.lstsq(X_b, y, rcond = None)\n",
        "theta_best_svd"
      ]
    },
    {
      "cell_type": "code",
      "execution_count": null,
      "id": "fcc1e80a",
      "metadata": {
        "id": "fcc1e80a",
        "outputId": "739907ac-6c58-49c0-c919-0d466eae6fea"
      },
      "outputs": [
        {
          "data": {
            "text/plain": [
              "array([[4.21509616],\n",
              "       [2.77011339]])"
            ]
          },
          "execution_count": 12,
          "metadata": {},
          "output_type": "execute_result"
        }
      ],
      "source": [
        "# computing X^+y where X^+ is pseudoinverse of X\n",
        "np.linalg.pinv(X_b) @ y"
      ]
    },
    {
      "cell_type": "code",
      "execution_count": null,
      "id": "8c64fad4",
      "metadata": {
        "id": "8c64fad4"
      },
      "outputs": [],
      "source": [
        "# Gradient Descent\n",
        "\n",
        "# Batch Gradient Descent\n",
        "\n",
        "eta = 0.1 # learning rate\n",
        "n_epoch = 1000  # no. of iteration\n",
        "m = len(X_b)\n",
        "\n",
        "np.random.seed(42)\n",
        "\n",
        "theta = np.random.randn(2,1)   # random intialization\n",
        "\n",
        "for epoch in range(n_epoch):\n",
        "    grad = 2/m * X_b.T @ (X_b @ theta - y)     # gradient vector of cost function\n",
        "    theta = theta - eta * grad              # next step theta"
      ]
    },
    {
      "cell_type": "code",
      "execution_count": null,
      "id": "20d09064",
      "metadata": {
        "id": "20d09064",
        "outputId": "380bb346-870a-4bba-de44-ea05574fd2de"
      },
      "outputs": [
        {
          "data": {
            "text/plain": [
              "array([[4.21509616],\n",
              "       [2.77011339]])"
            ]
          },
          "execution_count": 14,
          "metadata": {},
          "output_type": "execute_result"
        }
      ],
      "source": [
        "theta"
      ]
    },
    {
      "cell_type": "code",
      "execution_count": null,
      "id": "66fc9911",
      "metadata": {
        "id": "66fc9911"
      },
      "outputs": [],
      "source": [
        "# experimenting with diff values of eta\n",
        "\n",
        "eta = 0.02 # learning rate is too low\n",
        "n_epoch = 1000  # no. of iteration\n",
        "m = len(X_b)\n",
        "\n",
        "np.random.seed(42)\n",
        "\n",
        "theta = np.random.randn(2,1)   # random intialization\n",
        "\n",
        "for epoch in range(n_epoch):\n",
        "    grad = 2/m * X_b.T @ (X_b @ theta - y)     # gradient vector of cost function\n",
        "    theta = theta - eta * grad             # next step theta"
      ]
    },
    {
      "cell_type": "code",
      "execution_count": null,
      "id": "6564f95b",
      "metadata": {
        "id": "6564f95b",
        "outputId": "ed8b7daa-a21b-44de-ef5b-cdc24e843352"
      },
      "outputs": [
        {
          "data": {
            "text/plain": [
              "array([[4.21438446],\n",
              "       [2.77074177]])"
            ]
          },
          "execution_count": 16,
          "metadata": {},
          "output_type": "execute_result"
        }
      ],
      "source": [
        "# the algorithm will eventually reach the sol but takes a longer time\n",
        "theta"
      ]
    },
    {
      "cell_type": "code",
      "execution_count": null,
      "id": "718a727c",
      "metadata": {
        "id": "718a727c"
      },
      "outputs": [],
      "source": [
        "\n",
        "eta = 0.5 # learning rate is too high\n",
        "n_epoch = 1000  # no. of iteration\n",
        "m = len(X_b)\n",
        "\n",
        "np.random.seed(42)\n",
        "\n",
        "theta = np.random.randn(2,1)   # random intialization\n",
        "\n",
        "for epoch in range(n_epoch):\n",
        "    grad = 2/m * X_b.T @ (X_b @ theta - y)     # gradient vector of cost function\n",
        "    theta = theta - eta * grad              # next step theta"
      ]
    },
    {
      "cell_type": "code",
      "execution_count": null,
      "id": "c7d2d047",
      "metadata": {
        "id": "c7d2d047",
        "outputId": "5217edd9-c6e2-4be5-9fde-7423fa02b76d"
      },
      "outputs": [
        {
          "data": {
            "text/plain": [
              "array([[-7.05138935e+27],\n",
              "       [-7.98621001e+27]])"
            ]
          },
          "execution_count": 18,
          "metadata": {},
          "output_type": "execute_result"
        }
      ],
      "source": [
        "# algorithm diverges, gets further away from the sol\n",
        "theta"
      ]
    },
    {
      "cell_type": "code",
      "execution_count": null,
      "id": "cbf07e51",
      "metadata": {
        "id": "cbf07e51"
      },
      "outputs": [],
      "source": [
        "# Stochastic GD\n",
        "n_epoch = 50\n",
        "t0, t1 = 5, 50         # learning schedule hyperparams\n",
        "\n",
        "def learning_schedule(t):\n",
        "    return t0 / (t+t1)\n",
        "\n",
        "np.random.seed(42)\n",
        "theta = np.random.randn(2,1)    # random intialization\n",
        "\n",
        "for epoch in range(n_epoch):\n",
        "    for itera in range(m):\n",
        "        rnd_i= np.random.randint(m)\n",
        "\n",
        "        xi = X_b[rnd_i:rnd_i +1]\n",
        "        yi = y[rnd_i:rnd_i +1]\n",
        "        grad = 2*xi.T @ (xi@theta -yi)   # no divide by m in sgd\n",
        "\n",
        "        eta = learning_schedule(epoch*m + itera)\n",
        "        theta = theta - eta*grad\n",
        ""
      ]
    },
    {
      "cell_type": "code",
      "execution_count": null,
      "id": "f6d35f0b",
      "metadata": {
        "id": "f6d35f0b",
        "outputId": "7a24e091-53eb-4850-878c-0718e75ba01c"
      },
      "outputs": [
        {
          "data": {
            "text/plain": [
              "array([[4.21076011],\n",
              "       [2.74856079]])"
            ]
          },
          "execution_count": 20,
          "metadata": {},
          "output_type": "execute_result"
        }
      ],
      "source": [
        "theta"
      ]
    },
    {
      "cell_type": "code",
      "execution_count": null,
      "id": "69b273cd",
      "metadata": {
        "id": "69b273cd",
        "outputId": "34252749-38d3-4b69-cf10-8e64644f4adc"
      },
      "outputs": [
        {
          "data": {
            "text/plain": [
              "SGDRegressor(n_iter_no_change=100, penalty=None, tol=1e-05)"
            ]
          },
          "execution_count": 21,
          "metadata": {},
          "output_type": "execute_result"
        }
      ],
      "source": [
        "# using SGDRegressor\n",
        "\n",
        "from sklearn.linear_model import SGDRegressor\n",
        "\n",
        "sgd_reg = SGDRegressor(max_iter = 1000, tol = 1e-5, penalty = None, eta0 = 0.01, n_iter_no_change = 100)\n",
        "\n",
        "sgd_reg.fit(X, y.ravel())   # y.raval because"
      ]
    },
    {
      "cell_type": "code",
      "execution_count": null,
      "id": "b35d08ce",
      "metadata": {
        "id": "b35d08ce",
        "outputId": "4f3bacd3-1c95-4ccf-a229-2dccd8afbd71"
      },
      "outputs": [
        {
          "data": {
            "text/plain": [
              "(array([4.21486451]), array([2.77054659]))"
            ]
          },
          "execution_count": 22,
          "metadata": {},
          "output_type": "execute_result"
        }
      ],
      "source": [
        "sgd_reg.intercept_, sgd_reg.coef_\n"
      ]
    },
    {
      "cell_type": "code",
      "execution_count": null,
      "id": "9fdd4cbb",
      "metadata": {
        "id": "9fdd4cbb"
      },
      "outputs": [],
      "source": [
        "# Polynomial Regression\n",
        "\n",
        "np.random.seed(42)\n",
        "m = 100\n",
        "X = 6* np.random.rand(m,1)-3\n",
        "y = 0.5*X**2 + X + 2 + np.random.randn(m,1)"
      ]
    },
    {
      "cell_type": "code",
      "execution_count": null,
      "id": "b9bd10ef",
      "metadata": {
        "id": "b9bd10ef",
        "outputId": "80d17230-c755-4a25-f14b-8ad3babc1bed"
      },
      "outputs": [
        {
          "data": {
            "image/png": "[encoded data removed]",
            "text/plain": [
              "<Figure size 432x288 with 1 Axes>"
            ]
          },
          "metadata": {
            "needs_background": "light"
          },
          "output_type": "display_data"
        }
      ],
      "source": [
        "plt.figure(figsize = (6,4))\n",
        "plt.plot(X,y, 'b.')\n",
        "plt.xlabel('$x_1$')\n",
        "plt.ylabel('$y$', rotation =0)\n",
        "plt.grid()\n",
        "plt.show()"
      ]
    },
    {
      "cell_type": "code",
      "execution_count": null,
      "id": "1908ab8f",
      "metadata": {
        "id": "1908ab8f",
        "outputId": "f7351b44-50ad-4f33-8390-262670b02ce8"
      },
      "outputs": [
        {
          "data": {
            "text/plain": [
              "array([-0.75275929])"
            ]
          },
          "execution_count": 25,
          "metadata": {},
          "output_type": "execute_result"
        }
      ],
      "source": [
        "# using PolynomialFeatures\n",
        "\n",
        "from sklearn.preprocessing import PolynomialFeatures\n",
        "poly_feat = PolynomialFeatures(degree = 2, include_bias = False)\n",
        "X_poly = poly_feat.fit_transform(X)\n",
        "X[0]"
      ]
    },
    {
      "cell_type": "code",
      "execution_count": null,
      "id": "658a288a",
      "metadata": {
        "id": "658a288a",
        "outputId": "df380484-903d-4144-f50b-ceead0aaf908"
      },
      "outputs": [
        {
          "data": {
            "text/plain": [
              "array([-0.75275929,  0.56664654])"
            ]
          },
          "execution_count": 26,
          "metadata": {},
          "output_type": "execute_result"
        }
      ],
      "source": [
        "X_poly[0]       # contains X plus square of the feature"
      ]
    },
    {
      "cell_type": "code",
      "execution_count": null,
      "id": "802f590c",
      "metadata": {
        "id": "802f590c",
        "outputId": "58c990f3-a133-48d7-90d2-3fec1d9f207a"
      },
      "outputs": [
        {
          "data": {
            "text/plain": [
              "(array([1.78134581]), array([[0.93366893, 0.56456263]]))"
            ]
          },
          "execution_count": 27,
          "metadata": {},
          "output_type": "execute_result"
        }
      ],
      "source": [
        "# fittina linear reg model to this extended training data\n",
        "\n",
        "lin_reg = LinearRegression()\n",
        "lin_reg.fit(X_poly, y)\n",
        "lin_reg.intercept_, lin_reg.coef_"
      ]
    },
    {
      "cell_type": "code",
      "execution_count": null,
      "id": "2e95b9a5",
      "metadata": {
        "id": "2e95b9a5",
        "outputId": "be4483e4-d2ee-4c3f-c0ae-06ee6e6b1bf9"
      },
      "outputs": [
        {
          "data": {
            "image/png": "[encoded data removed]",
            "text/plain": [
              "<Figure size 432x288 with 1 Axes>"
            ]
          },
          "metadata": {
            "needs_background": "light"
          },
          "output_type": "display_data"
        }
      ],
      "source": [
        "# learning curves\n",
        "\n",
        "from sklearn.model_selection import learning_curve\n",
        "\n",
        "train_sizes, train_scores, valid_scores = learning_curve(\n",
        "    lin_reg, X, y, train_sizes = np.linspace(0.01, 1.0, 40), cv =5,\n",
        "    scoring = 'neg_root_mean_squared_error')\n",
        "\n",
        "train_errors = -train_scores.mean(axis = 1)\n",
        "valid_errors = -valid_scores.mean(axis = 1)\n",
        "\n",
        "plt.figure(figsize=(6, 4))\n",
        "plt.plot(train_sizes, train_errors, 'r-+', label = 'train')\n",
        "plt.plot(train_sizes, valid_errors, 'b-', label = 'valid')\n",
        "\n",
        "plt.xlabel(\"Training set size\")\n",
        "plt.ylabel('RMSE')\n",
        "plt.legend(loc = 'best')\n",
        "plt.axis([0, 80, 0, 2.5])\n",
        "plt.grid()\n",
        "plt.show()"
      ]
    },
    {
      "cell_type": "code",
      "execution_count": null,
      "id": "3cbd8b0c",
      "metadata": {
        "id": "3cbd8b0c"
      },
      "outputs": [],
      "source": [
        "# above model is underfitting model"
      ]
    },
    {
      "cell_type": "code",
      "execution_count": null,
      "id": "e12cad7e",
      "metadata": {
        "id": "e12cad7e",
        "outputId": "4b1bfdef-49d8-43cd-e276-e7b4805122ce"
      },
      "outputs": [
        {
          "data": {
            "image/png": "[encoded data removed]",
            "text/plain": [
              "<Figure size 432x288 with 1 Axes>"
            ]
          },
          "metadata": {
            "needs_background": "light"
          },
          "output_type": "display_data"
        }
      ],
      "source": [
        "from sklearn.pipeline import make_pipeline\n",
        "\n",
        "poly_reg = make_pipeline(PolynomialFeatures(degree=10, include_bias=False),\n",
        "                         lin_reg)\n",
        "\n",
        "\n",
        "train_sizes, train_scores, valid_scores = learning_curve(\n",
        "    poly_reg, X, y, train_sizes = np.linspace(0.01, 1.0, 40), cv =5,\n",
        "    scoring = 'neg_root_mean_squared_error')\n",
        "\n",
        "train_errors = -train_scores.mean(axis = 1)\n",
        "valid_errors = -valid_scores.mean(axis = 1)\n",
        "\n",
        "plt.figure(figsize=(6, 4))\n",
        "plt.plot(train_sizes, train_errors, 'r-+', label = 'train')\n",
        "plt.plot(train_sizes, valid_errors, 'b-', label = 'valid')\n",
        "\n",
        "plt.xlabel(\"Training set size\")\n",
        "plt.ylabel('RMSE')\n",
        "plt.legend(loc = 'best')\n",
        "plt.axis([0, 80, 0, 2.5])\n",
        "plt.grid()\n",
        "plt.show()"
      ]
    },
    {
      "cell_type": "code",
      "execution_count": null,
      "id": "bbc8493e",
      "metadata": {
        "id": "bbc8493e"
      },
      "outputs": [],
      "source": [
        "# above model is overfitting model"
      ]
    },
    {
      "cell_type": "code",
      "execution_count": null,
      "id": "66de8b92",
      "metadata": {
        "id": "66de8b92"
      },
      "outputs": [],
      "source": [
        "# Regularization of linear models\n",
        "# ridge\n",
        "# lasso\n",
        "# elastic net"
      ]
    },
    {
      "cell_type": "code",
      "execution_count": null,
      "id": "02102bae",
      "metadata": {
        "id": "02102bae"
      },
      "outputs": [],
      "source": [
        "# Ridge\n",
        "# for most of regularized model, scaling should be done\n",
        "\n",
        "# generating  random dataset\n",
        "np.random.seed(42)\n",
        "m = 20\n",
        "X = 3 * np.random.rand(m,1)\n",
        "y = 1 + 0.5* X + np.random.rand(m,1)/1.5"
      ]
    },
    {
      "cell_type": "code",
      "execution_count": null,
      "id": "104d2d34",
      "metadata": {
        "id": "104d2d34",
        "outputId": "19bcd812-020e-496c-9762-8b74f57288cf"
      },
      "outputs": [
        {
          "data": {
            "image/png": "[encoded data removed]",
            "text/plain": [
              "<Figure size 432x288 with 1 Axes>"
            ]
          },
          "metadata": {
            "needs_background": "light"
          },
          "output_type": "display_data"
        }
      ],
      "source": [
        "# plotting randomly generated linear dataset\n",
        "\n",
        "plt.figure(figsize = (6,4))\n",
        "plt.plot(X, y, 'b.')\n",
        "plt.xlabel('$x_1$')\n",
        "plt.ylabel('$y$', rotation = 0)\n",
        "plt.axis([0,3,0,3.5])\n",
        "plt.grid()\n",
        "plt.show()"
      ]
    },
    {
      "cell_type": "code",
      "execution_count": null,
      "id": "547c25f1",
      "metadata": {
        "id": "547c25f1",
        "outputId": "c5033aa2-e75c-4d7f-af0c-1bb4bfb6196f"
      },
      "outputs": [
        {
          "data": {
            "text/plain": [
              "array([[2.03718902]])"
            ]
          },
          "execution_count": 41,
          "metadata": {},
          "output_type": "execute_result"
        }
      ],
      "source": [
        "# ridge regression closed form solution\n",
        "\n",
        "from sklearn.linear_model import Ridge\n",
        "\n",
        "ridge_reg = Ridge(alpha = 0.1, solver= 'cholesky')\n",
        "# using matrix factorization technique by André-Louis Cholesky\n",
        "ridge_reg.fit(X,y)\n",
        "ridge_reg.predict([[1.5]])"
      ]
    },
    {
      "cell_type": "code",
      "execution_count": null,
      "id": "805c5663",
      "metadata": {
        "id": "805c5663",
        "outputId": "a27e2533-d908-4761-d06a-d0c1c2ccd410"
      },
      "outputs": [
        {
          "data": {
            "text/plain": [
              "array([2.03636801])"
            ]
          },
          "execution_count": 43,
          "metadata": {},
          "output_type": "execute_result"
        }
      ],
      "source": [
        "# using sgd\n",
        "\n",
        "sgd_reg = SGDRegressor(penalty = 'l2', alpha = 0.1/m, tol = None,\n",
        "                       max_iter = 1000, eta0 =0.01, random_state =42)\n",
        "sgd_reg.fit(X, y.ravel())  # fit(expects 1d targets)\n",
        "sgd_reg.predict([[1.5]])"
      ]
    },
    {
      "cell_type": "code",
      "execution_count": null,
      "id": "675e8b3d",
      "metadata": {
        "id": "675e8b3d",
        "outputId": "7b094088-b8ff-4497-f921-d6153afd4cbf"
      },
      "outputs": [
        {
          "data": {
            "text/plain": [
              "array([2.02180523])"
            ]
          },
          "execution_count": 45,
          "metadata": {},
          "output_type": "execute_result"
        }
      ],
      "source": [
        "# lasso regression\n",
        "\n",
        "from sklearn.linear_model import Lasso\n",
        "\n",
        "lasso_reg = Lasso(alpha = 0.1)\n",
        "lasso_reg.fit(X,y)\n",
        "lasso_reg.predict([[1.5]])"
      ]
    },
    {
      "cell_type": "code",
      "execution_count": null,
      "id": "4efbbd3b",
      "metadata": {
        "id": "4efbbd3b",
        "outputId": "8ac9b611-4424-48f8-9be1-e37b45bc9704"
      },
      "outputs": [
        {
          "data": {
            "text/plain": [
              "array([2.02061809])"
            ]
          },
          "execution_count": 46,
          "metadata": {},
          "output_type": "execute_result"
        }
      ],
      "source": [
        "# using sgd[[1.5]]\n",
        "\n",
        "sgd_reg = SGDRegressor(penalty = 'l1', alpha = 0.1, tol = None,\n",
        "                       max_iter = 1000, eta0 =0.01, random_state =42)\n",
        "sgd_reg.fit(X, y.ravel())  # fit(expects 1d targets)\n",
        "sgd_reg.predict([[1.5]])"
      ]
    },
    {
      "cell_type": "code",
      "execution_count": null,
      "id": "e5af31ef",
      "metadata": {
        "id": "e5af31ef",
        "outputId": "82447886-e862-4ba2-dcb5-3195f1581241"
      },
      "outputs": [
        {
          "data": {
            "text/plain": [
              "array([2.02732399])"
            ]
          },
          "execution_count": 49,
          "metadata": {},
          "output_type": "execute_result"
        }
      ],
      "source": [
        "# elastic net regression\n",
        "\n",
        "from sklearn.linear_model import ElasticNet\n",
        "\n",
        "elastic_net =  ElasticNet(alpha = 0.1, l1_ratio = 0.5)   # l1_ratio is mix ratio r\n",
        "elastic_net.fit(X, y.ravel())\n",
        "elastic_net.predict([[1.5]])"
      ]
    },
    {
      "cell_type": "code",
      "execution_count": null,
      "id": "ae94d448",
      "metadata": {
        "id": "ae94d448"
      },
      "outputs": [],
      "source": [
        "# early stopping\n",
        "\n",
        "from copy import deepcopy\n",
        "from sklearn.metrics import mean_squared_error\n",
        "from sklearn.preprocessing import StandardScaler\n",
        "\n",
        "# splitting the quadratic data we produced earlier into train & valid\n",
        "X_train, y_train = X[: m//2], y[: m//2,0]\n",
        "X_valid, y_valid = X[m//2:], y[m//2:,0]\n",
        "\n",
        "\n",
        "\n",
        "preprocessing = make_pipeline(PolynomialFeatures(degree = 90, include_bias = False),\n",
        "                              StandardScaler())\n",
        "\n",
        "X_train_prep = preprocessing.fit_transform(X_train)\n",
        "X_valid_prep = preprocessing.transform(X_valid)\n",
        "sgd_reg = SGDRegressor(penalty=None, eta0=0.002, random_state=42)\n",
        "\n",
        "n_epochs = 500\n",
        "best_valid_rmse = float('inf')   # setting rmse value to positive infinity\n",
        "\n",
        "for epoch in range(n_epochs):\n",
        "    sgd_reg.partial_fit(X_train_prep, y_train)    # partial_fit to perform incremental learning\n",
        "    y_valid_predict = sgd_reg.predict(X_valid_prep)\n",
        "\n",
        "    val_error = mean_squared_error(y_valid, y_valid_predict, squared = False)\n",
        "\n",
        "    if val_error < best_valid_rmse:\n",
        "        best_valid_rmse = val_error\n",
        "        best_model = deepcopy(sgd_reg)\n",
        "\n",
        "        # evaluating train error\n",
        "        y_train_predict = sgd_reg.predict(X_train_prep)\n",
        "        train_error = mean_squared_error(y_train, y_train_predict, squared=False)\n",
        "\n",
        "# why copy.deepcopy()\n",
        "# because it copies both the model’s hyperparameters and the learned parameters.\n",
        "# as sklearn.base.clone() only copies the model’s hyperparameters."
      ]
    },
    {
      "cell_type": "code",
      "execution_count": null,
      "id": "e8a9de0a",
      "metadata": {
        "id": "e8a9de0a"
      },
      "outputs": [],
      "source": [
        "# This implementation does not actually stop training, but it lets you revert to\n",
        "# the best model after training"
      ]
    },
    {
      "cell_type": "code",
      "execution_count": null,
      "id": "9c74bc11",
      "metadata": {
        "id": "9c74bc11",
        "outputId": "fade5b55-1966-4efb-f01f-c6e04bc75573"
      },
      "outputs": [
        {
          "data": {
            "text/plain": [
              "SGDRegressor(eta0=0.002, penalty=None, random_state=42)"
            ]
          },
          "execution_count": 71,
          "metadata": {},
          "output_type": "execute_result"
        }
      ],
      "source": [
        "best_model"
      ]
    },
    {
      "cell_type": "code",
      "execution_count": null,
      "id": "75c7c59b",
      "metadata": {
        "id": "75c7c59b",
        "outputId": "4dc77d2d-36b1-4796-8ccc-2365aa87e12b"
      },
      "outputs": [
        {
          "data": {
            "text/plain": [
              "0.7277996717324541"
            ]
          },
          "execution_count": 72,
          "metadata": {},
          "output_type": "execute_result"
        }
      ],
      "source": [
        "best_valid_rmse"
      ]
    },
    {
      "cell_type": "code",
      "execution_count": null,
      "id": "d3be5668",
      "metadata": {
        "id": "d3be5668"
      },
      "outputs": [],
      "source": [
        "# Logistic Regression\n",
        "# nothing much to code few equations and that's all"
      ]
    },
    {
      "cell_type": "code",
      "execution_count": null,
      "id": "5ec741f9",
      "metadata": {
        "id": "5ec741f9"
      },
      "outputs": [],
      "source": [
        "# Decision Boundaries\n",
        "\n",
        "from sklearn.datasets import load_iris\n",
        "\n",
        "iris = load_iris(as_frame = True)"
      ]
    },
    {
      "cell_type": "code",
      "execution_count": null,
      "id": "ba665f87",
      "metadata": {
        "id": "ba665f87",
        "outputId": "e49f1d5b-237c-4f1a-c440-e9e838e54c3a"
      },
      "outputs": [
        {
          "data": {
            "text/plain": [
              "['data',\n",
              " 'target',\n",
              " 'frame',\n",
              " 'target_names',\n",
              " 'DESCR',\n",
              " 'feature_names',\n",
              " 'filename']"
            ]
          },
          "execution_count": 75,
          "metadata": {},
          "output_type": "execute_result"
        }
      ],
      "source": [
        "list(iris)"
      ]
    },
    {
      "cell_type": "code",
      "execution_count": null,
      "id": "78979ce5",
      "metadata": {
        "id": "78979ce5",
        "outputId": "5f664f23-9d3f-4181-9056-a1fef95b440b"
      },
      "outputs": [
        {
          "data": {
            "text/html": [
              "<div>\n",
              "<style scoped>\n",
              "    .dataframe tbody tr th:only-of-type {\n",
              "        vertical-align: middle;\n",
              "    }\n",
              "\n",
              "    .dataframe tbody tr th {\n",
              "        vertical-align: top;\n",
              "    }\n",
              "\n",
              "    .dataframe thead th {\n",
              "        text-align: right;\n",
              "    }\n",
              "</style>\n",
              "<table border=\"1\" class=\"dataframe\">\n",
              "  <thead>\n",
              "    <tr style=\"text-align: right;\">\n",
              "      <th></th>\n",
              "      <th>sepal length (cm)</th>\n",
              "      <th>sepal width (cm)</th>\n",
              "      <th>petal length (cm)</th>\n",
              "      <th>petal width (cm)</th>\n",
              "    </tr>\n",
              "  </thead>\n",
              "  <tbody>\n",
              "    <tr>\n",
              "      <th>0</th>\n",
              "      <td>5.1</td>\n",
              "      <td>3.5</td>\n",
              "      <td>1.4</td>\n",
              "      <td>0.2</td>\n",
              "    </tr>\n",
              "    <tr>\n",
              "      <th>1</th>\n",
              "      <td>4.9</td>\n",
              "      <td>3.0</td>\n",
              "      <td>1.4</td>\n",
              "      <td>0.2</td>\n",
              "    </tr>\n",
              "    <tr>\n",
              "      <th>2</th>\n",
              "      <td>4.7</td>\n",
              "      <td>3.2</td>\n",
              "      <td>1.3</td>\n",
              "      <td>0.2</td>\n",
              "    </tr>\n",
              "    <tr>\n",
              "      <th>3</th>\n",
              "      <td>4.6</td>\n",
              "      <td>3.1</td>\n",
              "      <td>1.5</td>\n",
              "      <td>0.2</td>\n",
              "    </tr>\n",
              "    <tr>\n",
              "      <th>4</th>\n",
              "      <td>5.0</td>\n",
              "      <td>3.6</td>\n",
              "      <td>1.4</td>\n",
              "      <td>0.2</td>\n",
              "    </tr>\n",
              "  </tbody>\n",
              "</table>\n",
              "</div>"
            ],
            "text/plain": [
              "   sepal length (cm)  sepal width (cm)  petal length (cm)  petal width (cm)\n",
              "0                5.1               3.5                1.4               0.2\n",
              "1                4.9               3.0                1.4               0.2\n",
              "2                4.7               3.2                1.3               0.2\n",
              "3                4.6               3.1                1.5               0.2\n",
              "4                5.0               3.6                1.4               0.2"
            ]
          },
          "execution_count": 77,
          "metadata": {},
          "output_type": "execute_result"
        }
      ],
      "source": [
        "iris.data.head()"
      ]
    },
    {
      "cell_type": "code",
      "execution_count": null,
      "id": "ca7f2f6d",
      "metadata": {
        "id": "ca7f2f6d",
        "outputId": "cb0c78e3-4264-4b8a-a752-257f6cc548b7"
      },
      "outputs": [
        {
          "data": {
            "text/plain": [
              "0    0\n",
              "1    0\n",
              "2    0\n",
              "3    0\n",
              "4    0\n",
              "Name: target, dtype: int32"
            ]
          },
          "execution_count": 78,
          "metadata": {},
          "output_type": "execute_result"
        }
      ],
      "source": [
        "iris.target.head()"
      ]
    },
    {
      "cell_type": "code",
      "execution_count": null,
      "id": "3e5fc6db",
      "metadata": {
        "id": "3e5fc6db",
        "outputId": "294b90d9-af34-4c63-d7a3-826abf662e59"
      },
      "outputs": [
        {
          "data": {
            "text/plain": [
              "array(['setosa', 'versicolor', 'virginica'], dtype='<U10')"
            ]
          },
          "execution_count": 82,
          "metadata": {},
          "output_type": "execute_result"
        }
      ],
      "source": [
        "iris.target_names"
      ]
    },
    {
      "cell_type": "code",
      "execution_count": null,
      "id": "8724a336",
      "metadata": {
        "id": "8724a336"
      },
      "outputs": [],
      "source": [
        "# using logistic reg to detect virginica type based only on petal width feature"
      ]
    },
    {
      "cell_type": "code",
      "execution_count": null,
      "id": "2c6481f4",
      "metadata": {
        "id": "2c6481f4",
        "outputId": "4205bec5-9b7f-4a51-cd62-546d91269ffd"
      },
      "outputs": [
        {
          "data": {
            "text/plain": [
              "LogisticRegression(random_state=42)"
            ]
          },
          "execution_count": 85,
          "metadata": {},
          "output_type": "execute_result"
        }
      ],
      "source": [
        "from sklearn.linear_model import LogisticRegression\n",
        "from sklearn.model_selection import train_test_split\n",
        "\n",
        "X = iris.data[['petal width (cm)']].values\n",
        "y = iris.target_names[iris.target]== 'virginica'\n",
        "\n",
        "X_train, X_test, y_train, y_test = train_test_split(X,y, random_state =42)\n",
        "\n",
        "\n",
        "log_reg = LogisticRegression(random_state = 42)\n",
        "log_reg.fit(X_train, y_train)"
      ]
    },
    {
      "cell_type": "code",
      "execution_count": null,
      "id": "41e2a383",
      "metadata": {
        "id": "41e2a383",
        "outputId": "ba0385a1-ce19-41b1-a8c6-0abb2f038573"
      },
      "outputs": [
        {
          "data": {
            "image/png": "[encoded data removed]",
            "text/plain": [
              "<Figure size 432x288 with 1 Axes>"
            ]
          },
          "metadata": {
            "needs_background": "light"
          },
          "output_type": "display_data"
        }
      ],
      "source": [
        "# model's estimated probabilities\n",
        "\n",
        "X_new = np.linspace(0,3,1000).reshape(-1,1)\n",
        "y_proba = log_reg.predict_proba(X_new)\n",
        "\n",
        "decision_boundary = X_new[y_proba[:,1]>= 0.5][0,0]\n",
        "\n",
        "# plotting proba of first class against X_new\n",
        "plt.plot(X_new, y_proba[:, 0], \"b--\", linewidth=2, label=\"Not Iris virginica proba\")\n",
        "#plotting proba of second class against X_new\n",
        "plt.plot(X_new, y_proba[:, 1], \"g-\", linewidth=2, label=\"Iris virginica proba\")\n",
        "\n",
        "# plotting line at the decision boundary (where proba of being iris virginica is 0.5)\n",
        "plt.plot([decision_boundary, decision_boundary], [0, 1], \"k:\", linewidth=2, label=\"Decision boundary\")\n",
        "\n",
        "plt.xlabel(\"Petal width (cm)\")\n",
        "plt.ylabel(\"Probability\")\n",
        "plt.legend(loc = 'best')\n",
        "plt.grid()\n",
        "plt.show()"
      ]
    },
    {
      "cell_type": "code",
      "execution_count": null,
      "id": "12dfb9ae",
      "metadata": {
        "id": "12dfb9ae",
        "outputId": "19dda1ee-f17e-4faf-b0ef-66d5c003a198"
      },
      "outputs": [
        {
          "data": {
            "text/plain": [
              "1.6516516516516517"
            ]
          },
          "execution_count": 88,
          "metadata": {},
          "output_type": "execute_result"
        }
      ],
      "source": [
        "decision_boundary"
      ]
    },
    {
      "cell_type": "code",
      "execution_count": null,
      "id": "406168e1",
      "metadata": {
        "id": "406168e1",
        "outputId": "cefaa41d-c073-4d3d-9bd1-f019dc7a807a"
      },
      "outputs": [
        {
          "data": {
            "text/plain": [
              "array([ True, False])"
            ]
          },
          "execution_count": 89,
          "metadata": {},
          "output_type": "execute_result"
        }
      ],
      "source": [
        "log_reg.predict([[1.7],[1.5]])"
      ]
    },
    {
      "cell_type": "code",
      "execution_count": null,
      "id": "0dde5575",
      "metadata": {
        "id": "0dde5575",
        "outputId": "6a42450d-f4e5-4c80-8754-da193c525f01"
      },
      "outputs": [
        {
          "data": {
            "text/plain": [
              "LogisticRegression(C=30, random_state=42)"
            ]
          },
          "execution_count": 90,
          "metadata": {},
          "output_type": "execute_result"
        }
      ],
      "source": [
        "# softmax regression\n",
        "# classifing the iris plant into all three classes\n",
        "\n",
        "X = iris.data[[\"petal length (cm)\", \"petal width (cm)\"]].values\n",
        "y = iris['target']\n",
        "\n",
        "X_train, X_test, y_train, y_test = train_test_split(X, y , random_state=42)\n",
        "\n",
        "\n",
        "# sklearn’s LogisticRegression classifier uses softmax regression automatically when\n",
        "# it is trained on more than two classes (assuming you use solver=\"lbfgs\", which is\n",
        "# the default)\n",
        "# also applies l2 regularization by default which can be controllled using c\n",
        "\n",
        "softmax_reg = LogisticRegression(C=30, random_state = 42)\n",
        "softmax_reg.fit(X_train, y_train)"
      ]
    },
    {
      "cell_type": "code",
      "execution_count": null,
      "id": "c0d95e9b",
      "metadata": {
        "id": "c0d95e9b",
        "outputId": "18c2acf0-dbcd-4aed-862d-4831b062ac6c"
      },
      "outputs": [
        {
          "data": {
            "text/plain": [
              "array([2])"
            ]
          },
          "execution_count": 91,
          "metadata": {},
          "output_type": "execute_result"
        }
      ],
      "source": [
        "# type of irirs with petal 5cm long and 2cm wide\n",
        "\n",
        "softmax_reg.predict([[5,2]])"
      ]
    },
    {
      "cell_type": "code",
      "execution_count": null,
      "id": "40065402",
      "metadata": {
        "id": "40065402"
      },
      "outputs": [],
      "source": [
        "# class 2 = iris virginica"
      ]
    },
    {
      "cell_type": "code",
      "execution_count": null,
      "id": "27d26dc9",
      "metadata": {
        "id": "27d26dc9",
        "outputId": "56dd1eef-3e22-4239-e877-89408f5c7047"
      },
      "outputs": [
        {
          "data": {
            "text/plain": [
              "array([[0.  , 0.04, 0.96]])"
            ]
          },
          "execution_count": 99,
          "metadata": {},
          "output_type": "execute_result"
        }
      ],
      "source": [
        "# estimating proba\n",
        "softmax_reg.predict_proba([[5,2]]).round(2)   # round(2) to round off upto 2 digits"
      ]
    },
    {
      "cell_type": "code",
      "execution_count": null,
      "id": "c06a7064",
      "metadata": {
        "id": "c06a7064"
      },
      "outputs": [],
      "source": [
        "# 96% proba that iris is virginica, 4% that it is versicolor, 0% thta it is setosa"
      ]
    },
    {
      "cell_type": "code",
      "execution_count": null,
      "id": "1833dcf0",
      "metadata": {
        "id": "1833dcf0"
      },
      "outputs": [],
      "source": []
    }
  ],
  "metadata": {
    "kernelspec": {
      "display_name": "Python 3",
      "language": "python",
      "name": "python3"
    },
    "language_info": {
      "codemirror_mode": {
        "name": "ipython",
        "version": 3
      },
      "file_extension": ".py",
      "mimetype": "text/x-python",
      "name": "python",
      "nbconvert_exporter": "python",
      "pygments_lexer": "ipython3",
      "version": "3.8.8"
    },
    "colab": {
      "provenance": [],
      "include_colab_link": true
    }
  },
  "nbformat": 4,
  "nbformat_minor": 5
}